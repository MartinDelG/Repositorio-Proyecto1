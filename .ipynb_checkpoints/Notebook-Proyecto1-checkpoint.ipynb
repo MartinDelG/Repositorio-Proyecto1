{
 "cells": [
  {
   "cell_type": "markdown",
   "id": "da2bbf7e-73a9-40bf-8d74-24accf77ca54",
   "metadata": {},
   "source": [
    "## Proyecto 1"
   ]
  },
  {
   "cell_type": "code",
   "execution_count": null,
   "id": "5c945a22-8cb0-4ef1-9d46-d9538564d68a",
   "metadata": {},
   "outputs": [],
   "source": []
  }
 ],
 "metadata": {
  "kernelspec": {
   "display_name": "Python 3 (ipykernel)",
   "language": "python",
   "name": "python3"
  },
  "language_info": {
   "codemirror_mode": {
    "name": "ipython",
    "version": 3
   },
   "file_extension": ".py",
   "mimetype": "text/x-python",
   "name": "python",
   "nbconvert_exporter": "python",
   "pygments_lexer": "ipython3",
   "version": "3.13.5"
  }
 },
 "nbformat": 4,
 "nbformat_minor": 5
}
