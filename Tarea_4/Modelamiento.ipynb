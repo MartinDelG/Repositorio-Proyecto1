{
 "cells": [
  {
   "cell_type": "markdown",
   "id": "607f6f91",
   "metadata": {},
   "source": [
    "Tarea 4: Generar el modelo "
   ]
  }
 ],
 "metadata": {
  "language_info": {
   "name": "python"
  }
 },
 "nbformat": 4,
 "nbformat_minor": 5
}
